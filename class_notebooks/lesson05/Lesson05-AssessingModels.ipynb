{
 "cells": [
  {
   "cell_type": "markdown",
   "metadata": {
    "slideshow": {
     "slide_type": "slide"
    }
   },
   "source": [
    "# Lesson 5: Assessing Models\n",
    "\n",
    "Today:\n",
    "1. Assessing Models\n",
    "    + Training and Test data\n",
    "    + Assessing the goodness of a regression model\n",
    "    + Overfitting, Underfitting"
   ]
  },
  {
   "cell_type": "code",
   "execution_count": null,
   "metadata": {},
   "outputs": [],
   "source": [
    "# load libraries\n",
    "import pandas as pd\n",
    "import numpy as np\n",
    "import seaborn as sns"
   ]
  },
  {
   "cell_type": "code",
   "execution_count": null,
   "metadata": {},
   "outputs": [],
   "source": [
    "# Read in data\n",
    "top50 = pd.read_csv('../../../shared/datasets/top50.csv')\n",
    "\n",
    "top50.head()"
   ]
  },
  {
   "cell_type": "code",
   "execution_count": null,
   "metadata": {},
   "outputs": [],
   "source": [
    "top50.shape"
   ]
  },
  {
   "cell_type": "code",
   "execution_count": null,
   "metadata": {},
   "outputs": [],
   "source": [
    "# split into test and training\n",
    "#   training_data = row 0 to row 24\n",
    "#   test_data = row 25 to row 49\n",
    "\n",
    "training_data = top50.iloc[ 0:25 , : ]\n",
    "test_data = top50.iloc[ 25:50 , :]"
   ]
  },
  {
   "cell_type": "code",
   "execution_count": null,
   "metadata": {},
   "outputs": [],
   "source": [
    "training_data.corr(numeric_only=True)"
   ]
  },
  {
   "cell_type": "code",
   "execution_count": null,
   "metadata": {},
   "outputs": [],
   "source": [
    "# plot\n",
    "sns.regplot(  data = training_data , x = 'LoudnessdB', y = 'Energy'   )"
   ]
  },
  {
   "cell_type": "code",
   "execution_count": null,
   "metadata": {},
   "outputs": [],
   "source": [
    "from sklearn.linear_model import LinearRegression\n",
    "\n",
    "X_train = training_data[['LoudnessdB']]\n",
    "y_train = training_data['Energy']\n",
    "\n",
    "\n",
    "lin_model = LinearRegression().fit( X_train, y_train  )\n",
    "\n",
    "m = lin_model.coef_\n",
    "b = lin_model.intercept_\n",
    "\n",
    "print(m)\n",
    "print(b)\n",
    "print(f\"Equation of best linear curve is y = {round(m[0], 3)}x + {round(b, 3)}\")\n",
    "# predicted energy = m * loudnessdb + b"
   ]
  },
  {
   "cell_type": "code",
   "execution_count": null,
   "metadata": {},
   "outputs": [],
   "source": [
    "# predict y values for the test dataset\n",
    "\n",
    "test_data.head()\n",
    "\n",
    "test_data['Energy_predicted'] = test_data['LoudnessdB'] * m + b\n",
    "\n",
    "# compute prediction error\n",
    "test_data['Error'] = test_data['Energy'] - test_data['Energy_predicted']\n",
    "test_data['Error_squared'] = test_data['Error'] ** 2\n",
    "\n",
    "print('MSE (testing) = ' +str(np.mean(test_data['Error_squared'])))"
   ]
  },
  {
   "cell_type": "code",
   "execution_count": null,
   "metadata": {},
   "outputs": [],
   "source": [
    "test_data"
   ]
  },
  {
   "cell_type": "code",
   "execution_count": null,
   "metadata": {},
   "outputs": [],
   "source": [
    "# instead of computing MSE, can also compute R^2\n",
    "\n",
    "X_test = test_data[['LoudnessdB']]\n",
    "y_test = test_data['Energy']\n",
    "\n",
    "print('R^2 score (testing) = ' + str(lin_model.score( X_test , y_test)))"
   ]
  },
  {
   "cell_type": "markdown",
   "metadata": {},
   "source": [
    "### Randomly choosing rows for the training and test data"
   ]
  },
  {
   "cell_type": "code",
   "execution_count": null,
   "metadata": {},
   "outputs": [],
   "source": [
    "# set up an array of all of the row indices\n",
    "row_indices = np.arange(0, 50) # list of numbers from 0 to 49\n",
    "\n",
    "# randomly select some row indices for the training data\n",
    "training_row_indices = np.random.choice( row_indices , 25 , replace = False )\n",
    "\n",
    "# the rest of the row indices are for the test data:\n",
    "test_row_indices = np.setdiff1d( row_indices , training_row_indices  )\n",
    "\n",
    "# pick out the rows of the big dataset based on the chosen row indices\n",
    "training_data = top50.iloc[  training_row_indices  , : ]\n",
    "test_data = top50.iloc[ test_row_indices , : ]"
   ]
  },
  {
   "cell_type": "code",
   "execution_count": null,
   "metadata": {},
   "outputs": [],
   "source": [
    "training_data.shape"
   ]
  },
  {
   "cell_type": "code",
   "execution_count": null,
   "metadata": {},
   "outputs": [],
   "source": [
    "test_data.shape"
   ]
  },
  {
   "cell_type": "markdown",
   "metadata": {},
   "source": [
    "### Bonus: Fitting a polynomial curve using linear regression"
   ]
  },
  {
   "cell_type": "code",
   "execution_count": null,
   "metadata": {
    "scrolled": true,
    "slideshow": {
     "slide_type": "subslide"
    }
   },
   "outputs": [],
   "source": [
    "# plot\n",
    "sns.regplot(  data = training_data , x = 'LoudnessdB', y = 'Energy', order = 3  )"
   ]
  },
  {
   "cell_type": "code",
   "execution_count": null,
   "metadata": {},
   "outputs": [],
   "source": [
    "# find the equation of the cubic polynomial \n",
    "\n",
    "# energy = a * loudness^3 + b * loudness^2 + c * loudness + d\n",
    "# linear regression: find coefficients a, b, c, d that minimizes the MSE\n",
    "\n",
    "from sklearn.linear_model import LinearRegression\n",
    "\n",
    "X_train = training_data[['LoudnessdB']]\n",
    "y_train = training_data['Energy']\n",
    "\n",
    "\n",
    "#add loudness squared and cubed columns in the X_train data frame\n",
    "X_train['LoudnessdB_squared'] = X_train['LoudnessdB'] ** 2\n",
    "X_train['LoudnessdB_cubed'] = X_train['LoudnessdB'] ** 3\n",
    "X_train.head()\n",
    "\n",
    "lin_model = LinearRegression().fit( X_train, y_train  )\n",
    "\n",
    "m = lin_model.coef_\n",
    "y_intercept = lin_model.intercept_\n",
    "\n",
    "# predicted energy = a * loudness^3 + b * loudness^2 + c * loudness + d\n",
    "print(m)  # the list of a , b, c\n",
    "print(y_intercept) # the y intercept, aka d in the above equation in the comment\n",
    "\n",
    "print(f\"Equation of best cubic curve is y = {round(m[0], 3)}x^3 + {round(m[1],3)}x^2 + {round(m[2],3)}x + {round(y_intercept,3)}\")"
   ]
  },
  {
   "cell_type": "code",
   "execution_count": null,
   "metadata": {},
   "outputs": [],
   "source": [
    "X_train.head()"
   ]
  },
  {
   "cell_type": "code",
   "execution_count": null,
   "metadata": {},
   "outputs": [],
   "source": [
    "# linear regression, with multiple (independent) variables \n",
    "\n",
    "from sklearn.linear_model import LinearRegression\n",
    "\n",
    "X_train = training_data[['LoudnessdB', 'BeatsPerMinute']]\n",
    "y_train = training_data['Energy']\n",
    "\n",
    "\n",
    "lin_model_multiplevars = LinearRegression().fit( X_train, y_train  )\n",
    "\n",
    "m = lin_model_multiplevars.coef_\n",
    "z_intercept = lin_model_multiplevars.intercept_\n",
    "\n",
    "# energy = a * loudnessdb + b * BeatsPerMinute + c\n",
    "print(m) # the list of a , b\n",
    "print(z_intercept) # the z intercept, aka c in the above equation in the comment\n",
    "\n",
    "print(f\"Equation of best linear curve is z = {round(m[0], 3)}x + {round(m[1],3)}y + {round(z_intercept,3)}\")"
   ]
  },
  {
   "cell_type": "code",
   "execution_count": null,
   "metadata": {},
   "outputs": [],
   "source": [
    "top50.head()"
   ]
  },
  {
   "cell_type": "code",
   "execution_count": null,
   "metadata": {},
   "outputs": [],
   "source": [
    "from sklearn.model_selection import train_test_split\n",
    "\n",
    "X = top50[['LoudnessdB', 'BeatsPerMinute']]\n",
    "Y = top50['Energy']\n",
    "\n",
    "# Be aware of the order of the items returned\n",
    "X_train, X_test, y_train, y_test = train_test_split(X, Y, test_size = 0.5, random_state = 11)\n"
   ]
  },
  {
   "cell_type": "code",
   "execution_count": null,
   "metadata": {},
   "outputs": [],
   "source": [
    "X_train.head()"
   ]
  },
  {
   "cell_type": "code",
   "execution_count": null,
   "metadata": {},
   "outputs": [],
   "source": [
    "X_test.head()"
   ]
  },
  {
   "cell_type": "code",
   "execution_count": null,
   "metadata": {},
   "outputs": [],
   "source": []
  },
  {
   "cell_type": "code",
   "execution_count": null,
   "metadata": {},
   "outputs": [],
   "source": []
  },
  {
   "cell_type": "code",
   "execution_count": null,
   "metadata": {},
   "outputs": [],
   "source": []
  }
 ],
 "metadata": {
  "celltoolbar": "Slideshow",
  "kernelspec": {
   "display_name": "Python 3 (ipykernel)",
   "language": "python",
   "name": "python3"
  },
  "language_info": {
   "codemirror_mode": {
    "name": "ipython",
    "version": 3
   },
   "file_extension": ".py",
   "mimetype": "text/x-python",
   "name": "python",
   "nbconvert_exporter": "python",
   "pygments_lexer": "ipython3",
   "version": "3.11.6"
  }
 },
 "nbformat": 4,
 "nbformat_minor": 4
}
