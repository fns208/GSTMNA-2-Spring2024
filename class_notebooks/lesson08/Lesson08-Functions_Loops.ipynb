{
 "cells": [
  {
   "cell_type": "markdown",
   "metadata": {
    "slideshow": {
     "slide_type": "slide"
    }
   },
   "source": [
    "# Lesson 8: Functions & Loops\n",
    "\n",
    "Today:\n",
    "1. Functions\n",
    "    + Why define our own functions\n",
    "    + How to define your own functions in python\n",
    "    + Application to classification\n",
    "2. Loops\n",
    "    + Understanding the `for` loop\n",
    "        + Tracing how variables change values during loops\n",
    "    + Accessing entries of a data frame using loops\n",
    "3. Application to classification"
   ]
  },
  {
   "cell_type": "code",
   "execution_count": null,
   "metadata": {},
   "outputs": [],
   "source": [
    "import pandas as pd\n",
    "import numpy as np\n",
    "import seaborn as sns"
   ]
  },
  {
   "cell_type": "markdown",
   "metadata": {
    "slideshow": {
     "slide_type": "slide"
    }
   },
   "source": [
    "## 1. Defining your own functions"
   ]
  },
  {
   "cell_type": "code",
   "execution_count": null,
   "metadata": {},
   "outputs": [],
   "source": []
  },
  {
   "cell_type": "code",
   "execution_count": null,
   "metadata": {},
   "outputs": [],
   "source": []
  },
  {
   "cell_type": "markdown",
   "metadata": {
    "slideshow": {
     "slide_type": "subslide"
    }
   },
   "source": [
    "**Example**\n",
    "\n",
    "You decided to check out a very popular East Village ramen restaurant for dinner on Friday night.  After waiting in line for two hours, you are finally seated.  As you are reading the menu, you realized that this restaurant is cash-only.  You have $28.75 with you and need to make sure that you have enough cash to pay for the dinner, including the 8.875% tax and the tip.\n",
    "\n",
    "You are considering ordering a $\\$$15 dish and a $\\$$6 beverage.  How much would you have to pay if you are giving an 18% tip?"
   ]
  },
  {
   "cell_type": "code",
   "execution_count": null,
   "metadata": {
    "slideshow": {
     "slide_type": "fragment"
    }
   },
   "outputs": [],
   "source": [
    "\n",
    "\n",
    "\n"
   ]
  },
  {
   "cell_type": "markdown",
   "metadata": {
    "slideshow": {
     "slide_type": "subslide"
    }
   },
   "source": [
    "**Example, continued**\n",
    "\n",
    "With 28.75 in your pocket, knowing that you still have some cash leftover, you wonder if you could afford a $\\$$17 dish and a $\\$$6 beverage, with the same 8.875\\% tax and 18\\% tip."
   ]
  },
  {
   "cell_type": "code",
   "execution_count": null,
   "metadata": {
    "slideshow": {
     "slide_type": "fragment"
    }
   },
   "outputs": [],
   "source": [
    "\n",
    "\n"
   ]
  },
  {
   "cell_type": "code",
   "execution_count": null,
   "metadata": {
    "slideshow": {
     "slide_type": "fragment"
    }
   },
   "outputs": [],
   "source": [
    "\n",
    "\n"
   ]
  },
  {
   "cell_type": "code",
   "execution_count": null,
   "metadata": {},
   "outputs": [],
   "source": []
  },
  {
   "cell_type": "markdown",
   "metadata": {
    "slideshow": {
     "slide_type": "subslide"
    }
   },
   "source": [
    "**Example, continued**\n",
    "\n",
    "Since you only have $\\$$28.75 but really want that $\\$$17 dish and the $\\$$6 beverage, you wonder if you can afford this meal if you only give a 15\\% tip. "
   ]
  },
  {
   "cell_type": "code",
   "execution_count": null,
   "metadata": {
    "slideshow": {
     "slide_type": "fragment"
    }
   },
   "outputs": [],
   "source": [
    "\n",
    "\n"
   ]
  },
  {
   "cell_type": "markdown",
   "metadata": {},
   "source": [
    "Remarks:\n",
    "+ The above examples are all similar (and **repetitive**!)\n",
    "+ Same method of computation, just different numbers\n",
    "+ Wouldn't it be nice if there is a python function that allows us to do the above repetitions easily?  Something like\n",
    "\n",
    "        calculate_bill( LISTOFPRICESOFITEMS, TIPPERCENTAGE)\n",
    "  that calculates the total bill, given a list of prices/costs of items and how many percent tip we want to give"
   ]
  },
  {
   "cell_type": "markdown",
   "metadata": {
    "slideshow": {
     "slide_type": "subslide"
    }
   },
   "source": [
    "**Example**"
   ]
  },
  {
   "cell_type": "code",
   "execution_count": null,
   "metadata": {
    "slideshow": {
     "slide_type": "fragment"
    }
   },
   "outputs": [],
   "source": [
    "\n"
   ]
  },
  {
   "cell_type": "code",
   "execution_count": null,
   "metadata": {
    "slideshow": {
     "slide_type": "fragment"
    }
   },
   "outputs": [],
   "source": []
  },
  {
   "cell_type": "code",
   "execution_count": null,
   "metadata": {
    "slideshow": {
     "slide_type": "fragment"
    }
   },
   "outputs": [],
   "source": []
  },
  {
   "cell_type": "code",
   "execution_count": null,
   "metadata": {},
   "outputs": [],
   "source": []
  },
  {
   "cell_type": "markdown",
   "metadata": {},
   "source": [
    "### Activity 1\n",
    "\n",
    "Define a new function called `my_function2`, which\n",
    "+ takes three numbers as inputs: `a`, `b`, `c`, and\n",
    "+ if `a` is strictly greater than zero, then it returns as an output `b + c`;\n",
    "+ otherwise, if `a` is zero or negative, then it returns as an output `b - c`."
   ]
  },
  {
   "cell_type": "code",
   "execution_count": null,
   "metadata": {},
   "outputs": [],
   "source": [
    "\n",
    "\n",
    "\n"
   ]
  },
  {
   "cell_type": "code",
   "execution_count": null,
   "metadata": {},
   "outputs": [],
   "source": [
    "\n",
    "\n"
   ]
  },
  {
   "cell_type": "code",
   "execution_count": null,
   "metadata": {
    "scrolled": true
   },
   "outputs": [],
   "source": []
  },
  {
   "cell_type": "code",
   "execution_count": null,
   "metadata": {
    "scrolled": true
   },
   "outputs": [],
   "source": []
  },
  {
   "cell_type": "markdown",
   "metadata": {
    "slideshow": {
     "slide_type": "subslide"
    }
   },
   "source": [
    "### Activity 2\n",
    "\n",
    "Define a new function called `compound_interest()` which takes three inputs\n",
    "+ `initial_deposit`: the amount you deposited in the savings account\n",
    "+ `interest_rate`: the annual interest rate of the account (in decimal)\n",
    "+ `num_years`: the number of years the initial deposit stays in the account\n",
    "\n",
    "and outputs/returns `account_total`, the total amount in the savings count after the specified number of years,\n",
    "\n",
    "Then, check by using the function to compute the total amount in the account if:\n",
    "+ we initially deposited 1000 dollars, the annual interest rate is 0.02, and we keep the account for 2 years \n",
    "+ we initially deposited 1250 dollars, the annual interest rate is 0.03, and we keep the account for 30 years \n",
    "+ try other inputs!"
   ]
  },
  {
   "cell_type": "code",
   "execution_count": null,
   "metadata": {
    "slideshow": {
     "slide_type": "fragment"
    }
   },
   "outputs": [],
   "source": []
  },
  {
   "cell_type": "code",
   "execution_count": null,
   "metadata": {},
   "outputs": [],
   "source": []
  },
  {
   "cell_type": "code",
   "execution_count": null,
   "metadata": {
    "slideshow": {
     "slide_type": "-"
    }
   },
   "outputs": [],
   "source": []
  },
  {
   "cell_type": "code",
   "execution_count": null,
   "metadata": {
    "slideshow": {
     "slide_type": "-"
    }
   },
   "outputs": [],
   "source": []
  },
  {
   "cell_type": "markdown",
   "metadata": {},
   "source": [
    "## 2. Loops"
   ]
  },
  {
   "cell_type": "markdown",
   "metadata": {},
   "source": [
    "### 2.1. Understanding `for` loops\n",
    "\n",
    "To repeat TASK for each VALUE in the list LIST\n",
    "\n",
    "    for( VALUE in LIST ):\n",
    "        TASKS"
   ]
  },
  {
   "cell_type": "code",
   "execution_count": null,
   "metadata": {},
   "outputs": [],
   "source": []
  },
  {
   "cell_type": "code",
   "execution_count": null,
   "metadata": {},
   "outputs": [],
   "source": []
  },
  {
   "cell_type": "code",
   "execution_count": null,
   "metadata": {},
   "outputs": [],
   "source": []
  },
  {
   "cell_type": "code",
   "execution_count": null,
   "metadata": {},
   "outputs": [],
   "source": []
  },
  {
   "cell_type": "code",
   "execution_count": null,
   "metadata": {},
   "outputs": [],
   "source": []
  },
  {
   "cell_type": "markdown",
   "metadata": {},
   "source": [
    "**Example**\n",
    "\n",
    "Suppose we want to display the text:  \n",
    "\n",
    "\"1 squared is 1\"\n",
    "\n",
    "\"2 squared is 4\"\n",
    "\n",
    "... up to\n",
    "\n",
    "\"20 squared is 400\""
   ]
  },
  {
   "cell_type": "code",
   "execution_count": null,
   "metadata": {},
   "outputs": [],
   "source": []
  },
  {
   "cell_type": "code",
   "execution_count": null,
   "metadata": {},
   "outputs": [],
   "source": []
  },
  {
   "cell_type": "markdown",
   "metadata": {},
   "source": [
    "### Activity\n",
    "\n",
    "Suppose we want to display the text:  \n",
    "\n",
    "\"1 cubed is 1\"\n",
    "\n",
    "\"2 cubed is 8\"\n",
    "\n",
    "\"3 cubed is 27\"\n",
    "\n",
    "... up to\n",
    "\n",
    "\"20 cubed is 8000\"\n",
    "\n",
    "**Write a for loop that accomplishes this task.**"
   ]
  },
  {
   "cell_type": "code",
   "execution_count": null,
   "metadata": {},
   "outputs": [],
   "source": []
  },
  {
   "cell_type": "code",
   "execution_count": null,
   "metadata": {},
   "outputs": [],
   "source": []
  },
  {
   "cell_type": "markdown",
   "metadata": {},
   "source": [
    "### Activity\n",
    "\n",
    "Suppose we want to display the text:  \n",
    "\n",
    "\"1 cubed is 1\"\n",
    "\n",
    "\"3 cubed is 27\"\n",
    "\n",
    "\"5 cubed is 125\"\n",
    "\n",
    "... up to\n",
    "\n",
    "\"25 cubed is 15625\"\n",
    "\n",
    "**Write a for loop that accomplishes this task.**"
   ]
  },
  {
   "cell_type": "code",
   "execution_count": null,
   "metadata": {},
   "outputs": [],
   "source": []
  },
  {
   "cell_type": "code",
   "execution_count": null,
   "metadata": {},
   "outputs": [],
   "source": []
  },
  {
   "cell_type": "markdown",
   "metadata": {},
   "source": [
    "### Activity: Tracing how variables change values during loops\n",
    "\n",
    "**Trace what's going on with the following for-loop.**"
   ]
  },
  {
   "cell_type": "code",
   "execution_count": null,
   "metadata": {},
   "outputs": [],
   "source": [
    "mylist = [-3, 5, 0, 7, 10]\n",
    "y = 1\n",
    "for x in mylist:\n",
    "    y = x+y\n",
    "    z = y ** 2\n",
    "    print(z)"
   ]
  },
  {
   "cell_type": "code",
   "execution_count": null,
   "metadata": {},
   "outputs": [],
   "source": []
  },
  {
   "cell_type": "code",
   "execution_count": null,
   "metadata": {},
   "outputs": [],
   "source": []
  },
  {
   "cell_type": "markdown",
   "metadata": {},
   "source": [
    "**Example**\n",
    "\n",
    "Recall our `calculate_bill()` function from above, reproduced below."
   ]
  },
  {
   "cell_type": "code",
   "execution_count": null,
   "metadata": {},
   "outputs": [],
   "source": [
    "# copy and paste function below\n"
   ]
  },
  {
   "cell_type": "markdown",
   "metadata": {},
   "source": [
    "Suppose that we would like to compute possible bills for a few different tip percentages, from 10\\%, 11%, 12%, ..., to 25\\%, if we order the following items:\n",
    "+ an \\$7 appetizer\n",
    "+ a \\$15 entree\n",
    "+ a \\$17 entree\n",
    "+ two \\$6 beverages."
   ]
  },
  {
   "cell_type": "code",
   "execution_count": null,
   "metadata": {},
   "outputs": [],
   "source": []
  },
  {
   "cell_type": "code",
   "execution_count": null,
   "metadata": {},
   "outputs": [],
   "source": []
  },
  {
   "cell_type": "code",
   "execution_count": null,
   "metadata": {},
   "outputs": [],
   "source": []
  },
  {
   "cell_type": "code",
   "execution_count": null,
   "metadata": {},
   "outputs": [],
   "source": []
  },
  {
   "cell_type": "markdown",
   "metadata": {},
   "source": [
    "### 2.2. Accessing entries of a data frame during loops\n",
    "\n",
    "Suppose that we would like to store the values that we computed during loops into a table.\n",
    "\n",
    "**Example**\n",
    "\n",
    "Create a data frame called `squares` which has 20 rows and 2 columns:\n",
    "\n",
    "<table>\n",
    "    <tr>\n",
    "        <th>n</th>\n",
    "        <th>n_squared</th>\n",
    "    </tr>    \n",
    "    <tr>\n",
    "        <td>1</td>\n",
    "        <td>1</td>\n",
    "    </tr>    \n",
    "    <tr>\n",
    "        <td>2</td>\n",
    "        <td>4</td>\n",
    "    </tr>    \n",
    "    <tr>\n",
    "        <td>3</td>\n",
    "        <td>9</td>\n",
    "    </tr>    \n",
    "    <tr>\n",
    "        <td>...</td>\n",
    "        <td>...</td>\n",
    "    </tr>    \n",
    "    <tr>\n",
    "        <td>19</td>\n",
    "        <td>361</td>\n",
    "    </tr>\n",
    "    <tr>\n",
    "        <td>20</td>\n",
    "        <td>400</td>\n",
    "    </tr>\n",
    "</table>"
   ]
  },
  {
   "cell_type": "code",
   "execution_count": null,
   "metadata": {},
   "outputs": [],
   "source": []
  },
  {
   "cell_type": "code",
   "execution_count": null,
   "metadata": {},
   "outputs": [],
   "source": []
  },
  {
   "cell_type": "code",
   "execution_count": null,
   "metadata": {},
   "outputs": [],
   "source": [
    "squares\n",
    "\n",
    "# fill in the empty data frame row by row\n",
    "\n",
    "\n",
    "\n"
   ]
  },
  {
   "cell_type": "code",
   "execution_count": null,
   "metadata": {},
   "outputs": [],
   "source": []
  },
  {
   "cell_type": "code",
   "execution_count": null,
   "metadata": {},
   "outputs": [],
   "source": []
  },
  {
   "cell_type": "code",
   "execution_count": null,
   "metadata": {},
   "outputs": [],
   "source": [
    "# note: the above can be done without a for loop\n",
    "#  using a method we learned earlier in the semester\n",
    "\n",
    "\n",
    "\n",
    "\n",
    "\n",
    "\n",
    "\n",
    "# so why did we use a for loop?  \n",
    "#  There are similar tasks that cannot be done using this more straightforward method\n",
    "#   See the next example"
   ]
  },
  {
   "cell_type": "code",
   "execution_count": null,
   "metadata": {},
   "outputs": [],
   "source": []
  },
  {
   "cell_type": "code",
   "execution_count": null,
   "metadata": {},
   "outputs": [],
   "source": []
  },
  {
   "cell_type": "markdown",
   "metadata": {},
   "source": [
    "**Activity**\n",
    "\n",
    "we defined a new function called `my_function2`, which\n",
    "+ takes three numbers as inputs: `a`, `b`, `c`, and\n",
    "+ if `a` is strictly greater than zero, then it returns as an output `b + c`;\n",
    "+ otherwise, if `a` is zero or negative, then it returns as an output `b - c`.\n",
    "\n",
    "We want to record the outputs of `my_function2` for various values of a, b, and c in the data frame called `records` below:\n",
    "\n",
    "<table>\n",
    "    <tr>\n",
    "        <th>a</th>\n",
    "        <th>b</th>\n",
    "        <th>c</th>\n",
    "        <th>output</th>\n",
    "    </tr>\n",
    "    <tr>\n",
    "        <td>3</td>\n",
    "        <td>1</td>\n",
    "        <td>3</td>\n",
    "        <td> </td>\n",
    "    </tr>\n",
    "    <tr>\n",
    "        <td>-2</td>\n",
    "        <td>10</td>\n",
    "        <td>3</td>\n",
    "        <td> </td>\n",
    "    </tr>\n",
    "    <tr>\n",
    "        <td>1</td>\n",
    "        <td>4</td>\n",
    "        <td>9</td>\n",
    "        <td> </td>\n",
    "    </tr>\n",
    "    <tr>\n",
    "        <td>0</td>\n",
    "        <td>4</td>\n",
    "        <td>8</td>\n",
    "        <td> </td>\n",
    "    </tr>\n",
    "</table>\n"
   ]
  },
  {
   "cell_type": "code",
   "execution_count": null,
   "metadata": {},
   "outputs": [],
   "source": [
    "# do not modify this cell\n",
    "\n",
    "records = pd.DataFrame( {'a': [3, -2, 1, 0],\n",
    "                         'b': [1, 10, 4, 4],\n",
    "                         'c': [3, 3, 9, 8],\n",
    "                         'output': [0, 0, 0, 0]} )\n",
    "records"
   ]
  },
  {
   "cell_type": "code",
   "execution_count": null,
   "metadata": {},
   "outputs": [],
   "source": []
  },
  {
   "cell_type": "code",
   "execution_count": null,
   "metadata": {},
   "outputs": [],
   "source": [
    "# filling in the output column in the records data frame \"by hand\" / row by row\n",
    "## this is fine because we have only four rows!\n",
    "## we probably don't want to do this if we have hundreds of rows\n",
    "\n",
    "\n",
    "\n",
    "\n",
    "\n",
    "\n",
    "\n",
    "\n",
    "\n"
   ]
  },
  {
   "cell_type": "code",
   "execution_count": null,
   "metadata": {},
   "outputs": [],
   "source": [
    "# do not modify this cell\n",
    "\n",
    "records = pd.DataFrame( {'a': [3, -2, 1, 0],\n",
    "                         'b': [1, 10, 4, 4],\n",
    "                         'c': [3, 3, 9, 8],\n",
    "                         'output': [0, 0, 0, 0]} )\n",
    "records"
   ]
  },
  {
   "cell_type": "code",
   "execution_count": null,
   "metadata": {},
   "outputs": [],
   "source": []
  },
  {
   "cell_type": "code",
   "execution_count": null,
   "metadata": {},
   "outputs": [],
   "source": []
  },
  {
   "cell_type": "markdown",
   "metadata": {},
   "source": [
    "**Example**\n",
    "\n",
    "Suppose that we would like to compute possible bills for a few different tip percentages, from 10\\%, 11%, 12%, ..., to 25\\%, if we order the following items:\n",
    "+ an \\$7 appetizer\n",
    "+ a \\$15 entree\n",
    "+ a \\$17 entree\n",
    "+ two \\$6 beverage.\n",
    "\n",
    "We would like to create a data frame with 2 columns and one row for each possible tip percentages.  The first column is the tip percentage itself and the second column is the total bill:\n",
    "\n",
    "<table>\n",
    "    <tr>\n",
    "        <th>tip_percentage</th>\n",
    "        <th>total</th>\n",
    "    </tr>    \n",
    "    <tr>\n",
    "        <td>10</td>\n",
    "        <td>60.62625</td>\n",
    "    </tr>    \n",
    "    <tr>\n",
    "        <td>11</td>\n",
    "        <td>61.64625</td>\n",
    "    </tr>    \n",
    "    <tr>\n",
    "        <td>12</td>\n",
    "        <td>62.15625</td>\n",
    "    </tr>    \n",
    "    <tr>\n",
    "        <td>...</td>\n",
    "        <td>...</td>\n",
    "    </tr>\n",
    "    <tr>\n",
    "        <td>24</td>\n",
    "        <td>67.76625</td>\n",
    "    </tr>\n",
    "    <tr>\n",
    "        <td>25</td>\n",
    "        <td>68.27625</td>\n",
    "    </tr>\n",
    "</table>\n",
    "\n"
   ]
  },
  {
   "cell_type": "code",
   "execution_count": null,
   "metadata": {},
   "outputs": [],
   "source": []
  },
  {
   "cell_type": "code",
   "execution_count": null,
   "metadata": {},
   "outputs": [],
   "source": []
  },
  {
   "cell_type": "markdown",
   "metadata": {},
   "source": [
    "**Exercise**\n",
    "\n",
    "We defined a new function called `compound_interest()` which takes three inputs\n",
    "+ `initial_deposit`: the amount you deposited in the savings account\n",
    "+ `interest_rate`: the annual interest rate of the account (in decimal)\n",
    "+ `num_years`: the number of years the initial deposit stays in the account\n",
    "\n",
    "and outputs/returns the total amount in the savings count after the specified number of years.  (The function definition is included in the code cell below.)\n",
    "\n",
    "Suppose that you invested 1000 dollars in a savings account that has a 2% annual interest rate that is added annually.\n",
    "\n",
    "Create a data frame called `account` which has \n",
    "+ two columns: `num_years` and `amount`; the `amount` column will store the amount in the account for the given number of years, from year 0 to year 30.\n",
    "\n",
    "<table>\n",
    "    <tr>\n",
    "        <th>num_years</th>\n",
    "        <th>amount</th>\n",
    "    </tr>    \n",
    "    <tr>\n",
    "        <td>0</td>\n",
    "        <td>1000</td>\n",
    "    </tr>    \n",
    "    <tr>\n",
    "        <td>1</td>\n",
    "        <td>1020</td>\n",
    "    </tr>    \n",
    "    <tr>\n",
    "        <td>2</td>\n",
    "        <td>1040.4</td>\n",
    "    </tr>    \n",
    "    <tr>\n",
    "        <td>...</td>\n",
    "        <td>...</td>\n",
    "    </tr>\n",
    "    <tr>\n",
    "        <td>29</td>\n",
    "        <td>1775.84469029741 </td>\n",
    "    </tr>\n",
    "    <tr>\n",
    "        <td>30</td>\n",
    "        <td>1811.36158410335</td>\n",
    "    </tr>\n",
    "</table>"
   ]
  },
  {
   "cell_type": "code",
   "execution_count": null,
   "metadata": {},
   "outputs": [],
   "source": []
  },
  {
   "cell_type": "code",
   "execution_count": null,
   "metadata": {},
   "outputs": [],
   "source": []
  },
  {
   "cell_type": "markdown",
   "metadata": {
    "slideshow": {
     "slide_type": "slide"
    }
   },
   "source": [
    "### Application to Classification\n",
    "\n",
    "Consider the second simple classifier which we did last class\n"
   ]
  },
  {
   "cell_type": "markdown",
   "metadata": {
    "slideshow": {
     "slide_type": "subslide"
    }
   },
   "source": [
    "**Example: Encoding a simple classifier (version 2)**\n",
    "\n",
    "<table>\n",
    "    <tr>\n",
    "        <td><img src=\"images/lec20-knn-illustration2_wline2.jpg\" width=\"600\"></td>\n",
    "        <td><img src=\"images/dec_tree1b.jpg\" width=\"600\"></td>\n",
    "    </tr>\n",
    "</table>  "
   ]
  },
  {
   "cell_type": "code",
   "execution_count": null,
   "metadata": {},
   "outputs": [],
   "source": [
    "cancerdata = pd.read_csv('../../shared/datasets/cancer.csv')\n",
    "\n",
    "\n",
    "\n"
   ]
  },
  {
   "cell_type": "code",
   "execution_count": null,
   "metadata": {
    "slideshow": {
     "slide_type": "subslide"
    }
   },
   "outputs": [],
   "source": [
    "# this is a simple classifier that we constructed in the notebook for Lesson07\n",
    "\n",
    "\n",
    "\n",
    "\n",
    "\n",
    "\n",
    "\n",
    "\n"
   ]
  },
  {
   "cell_type": "markdown",
   "metadata": {
    "slideshow": {
     "slide_type": "subslide"
    }
   },
   "source": [
    "**We will \"wrap\" our classifier as a task done by a new function** which we will name `predict_tumor_class()`"
   ]
  },
  {
   "cell_type": "markdown",
   "metadata": {
    "slideshow": {
     "slide_type": "fragment"
    }
   },
   "source": [
    "+ inputs: two numbers: `marginal_adhesion` and `clump_thickness`\n",
    "+ output: one number: 0 if we predict the tumor to be benign, 1 otherwise"
   ]
  },
  {
   "cell_type": "markdown",
   "metadata": {
    "slideshow": {
     "slide_type": "subslide"
    }
   },
   "source": [
    "`Z = predict_tumor_class( X, Y )`\n",
    "\n",
    "where\n",
    "+ X = marginal adhesion value\n",
    "+ Y = clump thickness value\n",
    "+ Z = the prediction that your decision tree classifier makes for the given values of X and Y"
   ]
  },
  {
   "cell_type": "code",
   "execution_count": null,
   "metadata": {
    "slideshow": {
     "slide_type": "subslide"
    }
   },
   "outputs": [],
   "source": [
    "\n",
    "\n",
    "\n",
    "\n",
    "\n"
   ]
  },
  {
   "cell_type": "code",
   "execution_count": null,
   "metadata": {
    "slideshow": {
     "slide_type": "slide"
    }
   },
   "outputs": [],
   "source": []
  },
  {
   "cell_type": "code",
   "execution_count": null,
   "metadata": {},
   "outputs": [],
   "source": []
  },
  {
   "cell_type": "code",
   "execution_count": null,
   "metadata": {},
   "outputs": [],
   "source": []
  },
  {
   "cell_type": "markdown",
   "metadata": {
    "slideshow": {
     "slide_type": "skip"
    }
   },
   "source": [
    "#### Miscellaneous Jupyter Notebook Tips\n",
    "\n",
    "To increase the indentation of an entire block of code: highlight the code, then\n",
    "+ Ctrl + ]\n",
    "\n",
    "To decrease indentation:\n",
    "+ Ctrl + [\n",
    "\n",
    "To comment/uncomment an entire block of code:\n",
    "+ Ctrl + /"
   ]
  }
 ],
 "metadata": {
  "celltoolbar": "Slideshow",
  "kernelspec": {
   "display_name": "Python [conda env:py3-11]",
   "language": "python",
   "name": "conda-env-py3-11-py"
  },
  "language_info": {
   "codemirror_mode": {
    "name": "ipython",
    "version": 3
   },
   "file_extension": ".py",
   "mimetype": "text/x-python",
   "name": "python",
   "nbconvert_exporter": "python",
   "pygments_lexer": "ipython3",
   "version": "3.11.7"
  }
 },
 "nbformat": 4,
 "nbformat_minor": 4
}
