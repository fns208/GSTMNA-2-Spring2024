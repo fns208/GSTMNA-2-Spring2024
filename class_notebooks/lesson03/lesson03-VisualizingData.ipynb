{
 "cells": [
  {
   "cell_type": "markdown",
   "metadata": {},
   "source": [
    "# Lesson 3: Visualizing Data\n",
    "\n",
    "Goals and Key Ideas:\n",
    "1. Purposes and types of data visualizations\n",
    "    + Determining the correct type of data visualization for a given type of variable\n",
    "2. Good and bad data visualizations\n",
    "    + Principles of good data visualizations\n",
    "3. Creating data visualizations using python and the `seaborn` library\n",
    "    + Visualizing the distribution of a variable: **Bar plots** and **Histograms**\n",
    "    + Visualizing the relationship between two variables: **Scatterplots**\n",
    "  \n",
    "Here are the documentations for using seaborn.:\n",
    "\n",
    "displot: https://seaborn.pydata.org/generated/seaborn.displot.html\n",
    "\n",
    "histplot: https://seaborn.pydata.org/generated/seaborn.histplot.html\n",
    "\n",
    "barplot: https://seaborn.pydata.org/generated/seaborn.barplot.html\n",
    "\n",
    "countplot: https://seaborn.pydata.org/generated/seaborn.countplot.html\n",
    "\n",
    "scatterplot: https://seaborn.pydata.org/generated/seaborn.scatterplot.html\n",
    "\n",
    "More information about matplotlib.pyplot (this is a great tool to organize your figures/plots): https://matplotlib.org/stable/tutorials/pyplot.html\n"
   ]
  },
  {
   "cell_type": "markdown",
   "metadata": {},
   "source": [
    "## 3. Creating data visualizations using python and the `seaborn` library"
   ]
  },
  {
   "cell_type": "code",
   "execution_count": null,
   "metadata": {},
   "outputs": [],
   "source": [
    "# import the libraries (pandas, numpy, seaborn, matplotlib.pyplot)\n",
    "\n"
   ]
  },
  {
   "cell_type": "markdown",
   "metadata": {},
   "source": [
    "## Example with Pets"
   ]
  },
  {
   "cell_type": "code",
   "execution_count": null,
   "metadata": {},
   "outputs": [],
   "source": [
    "df = pd.DataFrame({\"Name\":[\"A\", \"B\", \"C\", \"D\", \"E\", \"F\"], \\\n",
    "                   \"Species\":[\"Cat\", \"Cat\", \"Dog\", \"Cat\", \"Dog\", \"Rabbit\"],\\\n",
    "                   \"Weight_lb\":[25, 15, 100, 20, 20, 4], \\\n",
    "                   \"Age\":[8, 3, 4, 3, 1, 2]})"
   ]
  },
  {
   "cell_type": "markdown",
   "metadata": {},
   "source": [
    "## 3.1 Bar graph\n",
    "\n",
    "Bar graphs are used for categorical variables. In this case, it can be used for ‘Species’ or ‘Name’. ’Species’ would be more suitable because everyone has a distinct name here."
   ]
  },
  {
   "cell_type": "code",
   "execution_count": null,
   "metadata": {},
   "outputs": [],
   "source": [
    "# Displot is a more general bar graph for plotting function\n",
    "sns.displot(data = df, x = 'Species')"
   ]
  },
  {
   "cell_type": "code",
   "execution_count": null,
   "metadata": {},
   "outputs": [],
   "source": [
    "# Before we showed a count, let's show a proportion or a probability\n",
    "sns.displot(data = df, x = 'Species', stat = 'probability')"
   ]
  },
  {
   "cell_type": "code",
   "execution_count": null,
   "metadata": {},
   "outputs": [],
   "source": [
    "# countplot is a specific type of bar graph (more specific than displot)\n",
    "sns.countplot(data = df, x = 'Species')"
   ]
  },
  {
   "cell_type": "code",
   "execution_count": null,
   "metadata": {},
   "outputs": [],
   "source": []
  },
  {
   "cell_type": "markdown",
   "metadata": {},
   "source": [
    "## 3.2 Histogram\n",
    "\n",
    "Histograms are used for a continuous variable rather than discrete variable. In here, a histogram would be appropriate to show the amount of animals that fall under a range of ages and/or weights.\n",
    "\n",
    "ie: How many animals are within the ages of 1-3, 3-5, 5-7, etc."
   ]
  },
  {
   "cell_type": "code",
   "execution_count": null,
   "metadata": {},
   "outputs": [],
   "source": [
    "# You can use displot or histplot; histplot is more specific than displot\n",
    "# Specify number of bins (or number of categories)\n",
    "sns.displot(data=df, x='Age',bins=2)"
   ]
  },
  {
   "cell_type": "code",
   "execution_count": null,
   "metadata": {},
   "outputs": [],
   "source": [
    "# Specify number of bins (or number of categories)\n",
    "sns.displot(data=df, x='Age',bins=4)"
   ]
  },
  {
   "cell_type": "code",
   "execution_count": null,
   "metadata": {},
   "outputs": [],
   "source": [
    "# Specify width of bins (or how wide each bar will be)\n",
    "sns.displot(data=df, x='Age',binwidth=1.5)"
   ]
  },
  {
   "cell_type": "code",
   "execution_count": null,
   "metadata": {},
   "outputs": [],
   "source": [
    "# Specify ranges with a list\n",
    "sns.displot(data=df, x='Age',bins = [1,3,5,7,9])"
   ]
  },
  {
   "cell_type": "code",
   "execution_count": null,
   "metadata": {},
   "outputs": [],
   "source": []
  },
  {
   "cell_type": "markdown",
   "metadata": {},
   "source": [
    "## 3.3 Scatterplot\n",
    "\n",
    "A scatterplot visualizes two numerical variables together - like a coordinate point. Here, age and\n",
    "weight would be an appropriate choice if we want to find out if age and weight are correlated to\n",
    "each other."
   ]
  },
  {
   "cell_type": "code",
   "execution_count": null,
   "metadata": {},
   "outputs": [],
   "source": [
    "sns.scatterplot(data=df , x='Age', y='Weight_lb')"
   ]
  },
  {
   "cell_type": "code",
   "execution_count": null,
   "metadata": {},
   "outputs": [],
   "source": [
    "sns.scatterplot(data=df , x='Age', y='Weight_lb', hue='Species')"
   ]
  },
  {
   "cell_type": "code",
   "execution_count": null,
   "metadata": {},
   "outputs": [],
   "source": []
  },
  {
   "cell_type": "markdown",
   "metadata": {},
   "source": [
    "## More Examples\n",
    "\n",
    "Here are some more example datasets that we can try to visualize"
   ]
  },
  {
   "cell_type": "code",
   "execution_count": null,
   "metadata": {},
   "outputs": [],
   "source": [
    "# load some example datasets\n",
    "\n",
    "#1. top 50 songs on spotify in 2019\n",
    "top50 = pd.read_csv('../../../shared/datasets/top50.csv')\n",
    "\n",
    "#2. \n",
    "babyweight = pd.read_csv('../../../shared/datasets/babyweight.csv')\n",
    "\n",
    "#3. NYC Tree Census\n",
    "nyctrees = pd.read_csv('../../../shared/datasets/NYC_Tree_Census_small.csv')"
   ]
  },
  {
   "cell_type": "code",
   "execution_count": null,
   "metadata": {},
   "outputs": [],
   "source": []
  },
  {
   "cell_type": "code",
   "execution_count": null,
   "metadata": {},
   "outputs": [],
   "source": []
  },
  {
   "cell_type": "code",
   "execution_count": null,
   "metadata": {},
   "outputs": [],
   "source": []
  },
  {
   "cell_type": "code",
   "execution_count": null,
   "metadata": {},
   "outputs": [],
   "source": []
  },
  {
   "cell_type": "code",
   "execution_count": null,
   "metadata": {},
   "outputs": [],
   "source": []
  },
  {
   "cell_type": "code",
   "execution_count": null,
   "metadata": {},
   "outputs": [],
   "source": []
  },
  {
   "cell_type": "code",
   "execution_count": null,
   "metadata": {},
   "outputs": [],
   "source": []
  },
  {
   "cell_type": "code",
   "execution_count": null,
   "metadata": {},
   "outputs": [],
   "source": []
  },
  {
   "cell_type": "code",
   "execution_count": null,
   "metadata": {},
   "outputs": [],
   "source": []
  },
  {
   "cell_type": "code",
   "execution_count": null,
   "metadata": {},
   "outputs": [],
   "source": []
  },
  {
   "cell_type": "code",
   "execution_count": null,
   "metadata": {},
   "outputs": [],
   "source": []
  },
  {
   "cell_type": "code",
   "execution_count": null,
   "metadata": {},
   "outputs": [],
   "source": []
  },
  {
   "cell_type": "code",
   "execution_count": null,
   "metadata": {},
   "outputs": [],
   "source": []
  },
  {
   "cell_type": "code",
   "execution_count": null,
   "metadata": {},
   "outputs": [],
   "source": []
  },
  {
   "cell_type": "markdown",
   "metadata": {},
   "source": [
    "## Practice\n",
    "\n",
    "Grab the Medals dataset from https://www.kaggle.com/datasets/arjunprasadsarkhel/2021-olympics-in-tokyo/data\n",
    "\n",
    "Here is documentation on how to read in excel files using pandas: https://pandas.pydata.org/docs/reference/api/pandas.read_excel.html\n",
    "\n",
    "1. Visualize the Team/NOC and the number of medals received\n",
    "2. Display the distribution of types of medal for the top 10 teams\n",
    "3. Display the portion of the teams that received a certain number of medals, maybe in multiples of 20\n",
    "4. Determine if there is a relationship between the total number of medals a team wins and the number of gold medals they win.\n"
   ]
  },
  {
   "cell_type": "code",
   "execution_count": null,
   "metadata": {},
   "outputs": [],
   "source": [
    "# read in data and name it df\n"
   ]
  },
  {
   "cell_type": "code",
   "execution_count": null,
   "metadata": {},
   "outputs": [],
   "source": []
  },
  {
   "cell_type": "code",
   "execution_count": null,
   "metadata": {},
   "outputs": [],
   "source": []
  },
  {
   "cell_type": "code",
   "execution_count": null,
   "metadata": {},
   "outputs": [],
   "source": [
    "# Question 1\n",
    "# Set up 'area' to plot your figure\n",
    "plt.figure(figsize=(20,20))\n",
    "plt.title(\"Olympic Team and Total Number of Medals Won\")\n",
    "\n",
    "# The plot itself\n",
    "sns.barplot(data=df, x='Team/NOC', y='Total', hue='Team/NOC', legend=False)\n",
    "\n",
    "# Beautify\n",
    "plt.xticks(rotation=90);\n",
    "\n",
    "# Display the final plot\n",
    "plt.show()"
   ]
  },
  {
   "cell_type": "code",
   "execution_count": null,
   "metadata": {},
   "outputs": [],
   "source": []
  },
  {
   "cell_type": "code",
   "execution_count": null,
   "metadata": {},
   "outputs": [],
   "source": []
  },
  {
   "cell_type": "code",
   "execution_count": null,
   "metadata": {},
   "outputs": [],
   "source": [
    "# Question 2\n",
    "df=df.head(10)\n",
    "\n",
    "# Set up 'area' to plot your figure\n",
    "plt.figure(figsize=(20,20))\n",
    "  \n",
    "# Select info needed from the larger df\n",
    "sub_df = df[['Team/NOC', 'Gold', 'Silver','Bronze']]\n",
    "  \n",
    "# The plot itself\n",
    "# Note here the plotting function is from Pandas\n",
    "# Stacked bar graphs can show subsets of information - that is, \n",
    "# out of the total medals, what proportion of them were gold/silver/bronze?\n",
    "sub_df.plot(kind='bar', x='Team/NOC',stacked=True, color=['gold','silver', 'peru'],\\\n",
    "           title='Top 10 Teams & Medal Distribution', \\\n",
    "            ylabel = 'Medal Count');"
   ]
  },
  {
   "cell_type": "code",
   "execution_count": null,
   "metadata": {},
   "outputs": [],
   "source": []
  },
  {
   "cell_type": "code",
   "execution_count": null,
   "metadata": {},
   "outputs": [],
   "source": []
  },
  {
   "cell_type": "code",
   "execution_count": null,
   "metadata": {},
   "outputs": [],
   "source": [
    "# Question 3\n",
    "sns.histplot(data=df, x=\"Total\", stat='percent', bins=[0, 20, 40, 60, 80, 100, 120])"
   ]
  },
  {
   "cell_type": "code",
   "execution_count": null,
   "metadata": {},
   "outputs": [],
   "source": []
  },
  {
   "cell_type": "code",
   "execution_count": null,
   "metadata": {},
   "outputs": [],
   "source": []
  },
  {
   "cell_type": "code",
   "execution_count": null,
   "metadata": {},
   "outputs": [],
   "source": [
    "# Question 4\n",
    "sns.scatterplot(y=df['Total'], x=df['Gold'])"
   ]
  },
  {
   "cell_type": "code",
   "execution_count": null,
   "metadata": {},
   "outputs": [],
   "source": [
    "# Question 4\n",
    "temp=df.query('Gold<15')\n",
    "sns.scatterplot(y=temp['Total'], x=temp['Gold'])"
   ]
  },
  {
   "cell_type": "code",
   "execution_count": null,
   "metadata": {},
   "outputs": [],
   "source": []
  },
  {
   "cell_type": "code",
   "execution_count": null,
   "metadata": {},
   "outputs": [],
   "source": []
  }
 ],
 "metadata": {
  "kernelspec": {
   "display_name": "Python 3 (ipykernel)",
   "language": "python",
   "name": "python3"
  },
  "language_info": {
   "codemirror_mode": {
    "name": "ipython",
    "version": 3
   },
   "file_extension": ".py",
   "mimetype": "text/x-python",
   "name": "python",
   "nbconvert_exporter": "python",
   "pygments_lexer": "ipython3",
   "version": "3.11.6"
  }
 },
 "nbformat": 4,
 "nbformat_minor": 4
}
