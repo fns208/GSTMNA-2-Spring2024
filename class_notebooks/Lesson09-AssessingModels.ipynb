{
 "cells": [
  {
   "cell_type": "markdown",
   "metadata": {
    "slideshow": {
     "slide_type": "slide"
    }
   },
   "source": [
    "# Lesson 9: Assessing Your Models\n",
    "\n",
    "Today:\n",
    "1. Assessing your models\n",
    "    + Accuracy\n",
    "    + Other ways to measure goodness of models\n",
    "2. Improving your models\n",
    "   + Incorporating more features\n",
    "   + k-Nearest Neighbor Classifiers"
   ]
  },
  {
   "cell_type": "markdown",
   "metadata": {
    "slideshow": {
     "slide_type": "slide"
    }
   },
   "source": [
    "## 1. Measuring \"Goodness\" of Classifiers"
   ]
  },
  {
   "cell_type": "code",
   "execution_count": null,
   "metadata": {},
   "outputs": [],
   "source": [
    "import pandas as pd\n",
    "import numpy as np\n",
    "import seaborn as sns"
   ]
  },
  {
   "cell_type": "code",
   "execution_count": null,
   "metadata": {},
   "outputs": [],
   "source": [
    "cancerdata = pd.read_csv('../../../shared/datasets/cancer.csv')\n",
    "cancerdata.shape"
   ]
  },
  {
   "cell_type": "code",
   "execution_count": null,
   "metadata": {
    "slideshow": {
     "slide_type": "subslide"
    }
   },
   "outputs": [],
   "source": [
    "# ---------------\n",
    "# this part simply puts together the pieces we have done previously into one giant code cell\n",
    "\n",
    "# 1. THE DATASET\n",
    "#  split into training and test datasets:\n",
    "\n",
    "from sklearn.model_selection import train_test_split\n",
    "\n",
    "X = cancerdata[['Uniformity of Cell Size', 'Clump Thickness']]\n",
    "Y = cancerdata['Class']\n",
    "\n",
    "X_train, X_test, y_train, y_test = train_test_split(X, Y, test_size = 0.5, random_state = 11)\n",
    "\n",
    "# 2. THE CLASSIFIER \n",
    "# Encoding a simple classifier\n",
    "#   (this was an example from lesson08)\n",
    "\n",
    "def predict_tumor_class( uniformity , clump ):\n",
    "    # uniformity = uniformity_of_cell_size\n",
    "    # clump = clump thickness\n",
    "    \n",
    "    if( uniformity > 4 ):\n",
    "        class_predicted = 1\n",
    "    elif( clump > 6 ):\n",
    "        class_predicted = 1\n",
    "    else:\n",
    "        class_predicted = 0\n",
    "    \n",
    "    return( class_predicted )\n",
    "\n",
    "\n",
    "# 3. PREDICT THE CLASS OF EACH ROW OF THE TEST DATASET, USING A FOR LOOP\n",
    "\n",
    "num_rows_test = len(y_test)\n",
    "print(num_rows_test)\n",
    "\n",
    "\n",
    "# empty array\n",
    "y_predicted = np.empty( num_rows_test )\n",
    "\n",
    "# empty data frame\n",
    "\n",
    "predictions = pd.DataFrame( np.empty( (num_rows_test, 2) ) )\n",
    "predictions.rename( columns = {0:'actual', 1:'predicted'}, inplace = True)\n",
    "\n",
    "for row in np.arange(0, num_rows_test):\n",
    "    predictions.iloc[row, 1] = predict_tumor_class( X.iloc[row, 0], X.iloc[row, 1] )\n",
    "    predictions.iloc[row, 0] = y_test.iloc[row]\n",
    "\n",
    "predictions.head()\n"
   ]
  },
  {
   "cell_type": "code",
   "execution_count": null,
   "metadata": {
    "slideshow": {
     "slide_type": "-"
    }
   },
   "outputs": [],
   "source": [
    "# 4. ASSESSMENT\n",
    "# Next, check how good our predictions are, by comparing to the actual class\n",
    "\n",
    "# count how many predictions are incorrect and how many are correct\n",
    "#    add a new column called \"error\"\n",
    "#    if actual class is equal to predicted class, error is 0; else, error is 1\n",
    "\n",
    "predictions['error'] = (predictions['predicted'] - predictions['actual']) ** 2\n",
    "\n",
    "print(np.mean(predictions['error']))"
   ]
  },
  {
   "cell_type": "code",
   "execution_count": null,
   "metadata": {},
   "outputs": [],
   "source": [
    "\n",
    "\n"
   ]
  },
  {
   "cell_type": "code",
   "execution_count": null,
   "metadata": {},
   "outputs": [],
   "source": [
    "\n",
    "\n"
   ]
  },
  {
   "cell_type": "markdown",
   "metadata": {},
   "source": [
    "### The k Nearest Neighbor Classifier"
   ]
  },
  {
   "cell_type": "code",
   "execution_count": null,
   "metadata": {},
   "outputs": [],
   "source": [
    "from sklearn.neighbors import KNeighborsClassifier\n",
    "model = KNeighborsClassifier(n_neighbors= 3 )\n",
    "model.fit(X_train, y_train)\n",
    "\n",
    "y_predicted = model.predict(X_test)\n",
    "\n",
    "accuracy = model.score(X_test, y_test)\n",
    "\n",
    "print(type(y_predicted))\n",
    "print(y_predicted)\n",
    "print(np.array(y_test))"
   ]
  },
  {
   "cell_type": "code",
   "execution_count": null,
   "metadata": {},
   "outputs": [],
   "source": []
  },
  {
   "cell_type": "code",
   "execution_count": null,
   "metadata": {},
   "outputs": [],
   "source": []
  },
  {
   "cell_type": "markdown",
   "metadata": {},
   "source": [
    "### Measure Accuracy"
   ]
  },
  {
   "cell_type": "code",
   "execution_count": null,
   "metadata": {},
   "outputs": [],
   "source": [
    "# use a for loop\n",
    "knnscores_df = pd.DataFrame( np.empty((50, 2)) )\n",
    "knnscores_df.rename(columns = {0:'k', 1:'accuracy'}, inplace = True )\n",
    "row = 0\n",
    "\n",
    "for k in np.arange(1, 51) :\n",
    "    model = KNeighborsClassifier(n_neighbors= k )\n",
    "    model.fit(X_train, y_train)\n",
    "    \n",
    "    knnscores_df.iloc[row, 0] = k\n",
    "    knnscores_df.iloc[row, 1] = model.score(X_test, y_test)\n",
    "    \n",
    "    row = row + 1"
   ]
  },
  {
   "cell_type": "code",
   "execution_count": null,
   "metadata": {},
   "outputs": [],
   "source": []
  },
  {
   "cell_type": "code",
   "execution_count": null,
   "metadata": {},
   "outputs": [],
   "source": []
  },
  {
   "cell_type": "code",
   "execution_count": null,
   "metadata": {},
   "outputs": [],
   "source": [
    "from sklearn.model_selection import cross_validate\n",
    "\n",
    "model = KNeighborsClassifier(n_neighbors=3)\n",
    "\n",
    "cv_results = cross_validate( model, X, Y, cv=5 )\n",
    "np.mean(cv_results[ 'test_score' ])"
   ]
  },
  {
   "cell_type": "code",
   "execution_count": null,
   "metadata": {},
   "outputs": [],
   "source": [
    "# use a for loop\n",
    "knnscores_df2 = pd.DataFrame( np.empty((50, 2)) )\n",
    "knnscores_df2.rename(columns = {0:'k', 1:'accuracy'}, inplace = True )\n",
    "row = 0\n",
    "\n",
    "for k in np.arange(1, 51) :\n",
    "    model = KNeighborsClassifier(n_neighbors=k)\n",
    "\n",
    "    cv_results = cross_validate( model, X, Y, cv=10 )\n",
    "    \n",
    "    knnscores_df2.iloc[row, 0] = k\n",
    "    knnscores_df2.iloc[row, 1] = np.mean(cv_results[ 'test_score' ])\n",
    "    \n",
    "    row = row + 1"
   ]
  },
  {
   "cell_type": "code",
   "execution_count": null,
   "metadata": {},
   "outputs": [],
   "source": []
  },
  {
   "cell_type": "code",
   "execution_count": null,
   "metadata": {},
   "outputs": [],
   "source": []
  },
  {
   "cell_type": "code",
   "execution_count": null,
   "metadata": {},
   "outputs": [],
   "source": []
  }
 ],
 "metadata": {
  "celltoolbar": "Slideshow",
  "kernelspec": {
   "display_name": "Python [conda env:py3-11]",
   "language": "python",
   "name": "conda-env-py3-11-py"
  },
  "language_info": {
   "codemirror_mode": {
    "name": "ipython",
    "version": 3
   },
   "file_extension": ".py",
   "mimetype": "text/x-python",
   "name": "python",
   "nbconvert_exporter": "python",
   "pygments_lexer": "ipython3",
   "version": "3.11.7"
  }
 },
 "nbformat": 4,
 "nbformat_minor": 4
}
